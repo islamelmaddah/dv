{
 "cells": [
  {
   "cell_type": "markdown",
   "metadata": {},
   "source": [
    "# Exploratory Data Visualization"
   ]
  },
  {
   "cell_type": "markdown",
   "metadata": {},
   "source": [
    "This Notebook demonstrates exploratory data visualization using pandas , matplotlib and plotly"
   ]
  },
  {
   "cell_type": "code",
   "execution_count": 11,
   "metadata": {
    "collapsed": false
   },
   "outputs": [],
   "source": [
    "import pandas as pd\n",
    "import matplotlib.pyplot as plt\n",
    "%matplotlib inline\n",
    "import plotly.plotly as py\n",
    "py.sign_in('youssef.emad.293', '0gxvde9i5t')\n",
    "# increase default figure and font sizes for easier viewing\n",
    "plt.rcParams['figure.figsize'] = (8, 6)\n",
    "plt.rcParams['font.size'] = 14"
   ]
  },
  {
   "cell_type": "markdown",
   "metadata": {},
   "source": [
    "## Exploring The Drinks Dataset"
   ]
  },
  {
   "cell_type": "code",
   "execution_count": 12,
   "metadata": {
    "collapsed": true
   },
   "outputs": [],
   "source": [
    "drink_cols = ['country', 'beer', 'spirit', 'wine', 'liters', 'continent']\n",
    "url = 'https://raw.githubusercontent.com/justmarkham/DAT8/master/data/drinks.csv'\n",
    "drinks = pd.read_csv(url, header=0, names=drink_cols, na_filter=False)\n",
    "drinks_no_filter = pd.read_csv(url)"
   ]
  },
  {
   "cell_type": "code",
   "execution_count": 13,
   "metadata": {
    "collapsed": false
   },
   "outputs": [
    {
     "data": {
      "text/plain": [
       "23"
      ]
     },
     "execution_count": 13,
     "metadata": {},
     "output_type": "execute_result"
    }
   ],
   "source": [
    "len(drinks[drinks['continent'] == 'NA'])"
   ]
  },
  {
   "cell_type": "code",
   "execution_count": 14,
   "metadata": {
    "collapsed": false
   },
   "outputs": [
    {
     "data": {
      "text/plain": [
       "0"
      ]
     },
     "execution_count": 14,
     "metadata": {},
     "output_type": "execute_result"
    }
   ],
   "source": [
    "len(drinks_no_filter[drinks_no_filter['continent'] == 'NA'])"
   ]
  },
  {
   "cell_type": "code",
   "execution_count": 15,
   "metadata": {
    "collapsed": false
   },
   "outputs": [
    {
     "data": {
      "text/html": [
       "<div style=\"max-height:1000px;max-width:1500px;overflow:auto;\">\n",
       "<table border=\"1\" class=\"dataframe\">\n",
       "  <thead>\n",
       "    <tr style=\"text-align: right;\">\n",
       "      <th></th>\n",
       "      <th>beer</th>\n",
       "      <th>spirit</th>\n",
       "      <th>wine</th>\n",
       "      <th>liters</th>\n",
       "    </tr>\n",
       "  </thead>\n",
       "  <tbody>\n",
       "    <tr>\n",
       "      <th>count</th>\n",
       "      <td> 193.000000</td>\n",
       "      <td> 193.000000</td>\n",
       "      <td> 193.000000</td>\n",
       "      <td> 193.000000</td>\n",
       "    </tr>\n",
       "    <tr>\n",
       "      <th>mean</th>\n",
       "      <td> 106.160622</td>\n",
       "      <td>  80.994819</td>\n",
       "      <td>  49.450777</td>\n",
       "      <td>   4.717098</td>\n",
       "    </tr>\n",
       "    <tr>\n",
       "      <th>std</th>\n",
       "      <td> 101.143103</td>\n",
       "      <td>  88.284312</td>\n",
       "      <td>  79.697598</td>\n",
       "      <td>   3.773298</td>\n",
       "    </tr>\n",
       "    <tr>\n",
       "      <th>min</th>\n",
       "      <td>   0.000000</td>\n",
       "      <td>   0.000000</td>\n",
       "      <td>   0.000000</td>\n",
       "      <td>   0.000000</td>\n",
       "    </tr>\n",
       "    <tr>\n",
       "      <th>25%</th>\n",
       "      <td>  20.000000</td>\n",
       "      <td>   4.000000</td>\n",
       "      <td>   1.000000</td>\n",
       "      <td>   1.300000</td>\n",
       "    </tr>\n",
       "    <tr>\n",
       "      <th>50%</th>\n",
       "      <td>  76.000000</td>\n",
       "      <td>  56.000000</td>\n",
       "      <td>   8.000000</td>\n",
       "      <td>   4.200000</td>\n",
       "    </tr>\n",
       "    <tr>\n",
       "      <th>75%</th>\n",
       "      <td> 188.000000</td>\n",
       "      <td> 128.000000</td>\n",
       "      <td>  59.000000</td>\n",
       "      <td>   7.200000</td>\n",
       "    </tr>\n",
       "    <tr>\n",
       "      <th>max</th>\n",
       "      <td> 376.000000</td>\n",
       "      <td> 438.000000</td>\n",
       "      <td> 370.000000</td>\n",
       "      <td>  14.400000</td>\n",
       "    </tr>\n",
       "  </tbody>\n",
       "</table>\n",
       "<p>8 rows × 4 columns</p>\n",
       "</div>"
      ],
      "text/plain": [
       "             beer      spirit        wine      liters\n",
       "count  193.000000  193.000000  193.000000  193.000000\n",
       "mean   106.160622   80.994819   49.450777    4.717098\n",
       "std    101.143103   88.284312   79.697598    3.773298\n",
       "min      0.000000    0.000000    0.000000    0.000000\n",
       "25%     20.000000    4.000000    1.000000    1.300000\n",
       "50%     76.000000   56.000000    8.000000    4.200000\n",
       "75%    188.000000  128.000000   59.000000    7.200000\n",
       "max    376.000000  438.000000  370.000000   14.400000\n",
       "\n",
       "[8 rows x 4 columns]"
      ]
     },
     "execution_count": 15,
     "metadata": {},
     "output_type": "execute_result"
    }
   ],
   "source": [
    "drinks.describe()"
   ]
  },
  {
   "cell_type": "code",
   "execution_count": 16,
   "metadata": {
    "collapsed": false
   },
   "outputs": [
    {
     "data": {
      "text/plain": [
       "<matplotlib.text.Text at 0x7f6a1188a590>"
      ]
     },
     "execution_count": 16,
     "metadata": {},
     "output_type": "execute_result"
    },
    {
     "data": {
      "image/png": "[encoded data removed]",
      "text/plain": [
       "<matplotlib.figure.Figure at 0x7f6a11942d90>"
      ]
     },
     "metadata": {},
     "output_type": "display_data"
    }
   ],
   "source": [
    "plt.hist(drinks.beer,bins=20)\n",
    "plt.xlabel('Beer Servings')\n",
    "plt.ylabel('Frequency')"
   ]
  },
  {
   "cell_type": "code",
   "execution_count": 17,
   "metadata": {
    "collapsed": false
   },
   "outputs": [
    {
     "data": {
      "text/plain": [
       "array([[<matplotlib.axes.AxesSubplot object at 0x7f6a11815210>,\n",
       "        <matplotlib.axes.AxesSubplot object at 0x7f6a116a2510>,\n",
       "        <matplotlib.axes.AxesSubplot object at 0x7f6a116263d0>],\n",
       "       [<matplotlib.axes.AxesSubplot object at 0x7f6a1160c1d0>,\n",
       "        <matplotlib.axes.AxesSubplot object at 0x7f6a11585f50>,\n",
       "        <matplotlib.axes.AxesSubplot object at 0x7f6a114eec50>],\n",
       "       [<matplotlib.axes.AxesSubplot object at 0x7f6a11472b10>,\n",
       "        <matplotlib.axes.AxesSubplot object at 0x7f6a1142db90>,\n",
       "        <matplotlib.axes.AxesSubplot object at 0x7f6a1136a690>]], dtype=object)"
      ]
     },
     "execution_count": 17,
     "metadata": {},
     "output_type": "execute_result"
    },
    {
     "data": {
      "image/png": "[encoded data removed]",
      "text/plain": [
       "<matplotlib.figure.Figure at 0x7f6a1228f050>"
      ]
     },
     "metadata": {},
     "output_type": "display_data"
    }
   ],
   "source": [
    "pd.scatter_matrix(drinks[['beer', 'spirit', 'wine']])"
   ]
  },
  {
   "cell_type": "code",
   "execution_count": 18,
   "metadata": {
    "collapsed": false
   },
   "outputs": [
    {
     "data": {
      "text/plain": [
       "<matplotlib.axes.AxesSubplot at 0x7f6a11464a90>"
      ]
     },
     "execution_count": 18,
     "metadata": {},
     "output_type": "execute_result"
    },
    {
     "data": {
      "image/png": "[encoded data removed]",
      "text/plain": [
       "<matplotlib.figure.Figure at 0x7f6a118a2850>"
      ]
     },
     "metadata": {},
     "output_type": "display_data"
    }
   ],
   "source": [
    "drinks.continent.value_counts()\n",
    "\n",
    "drinks.continent.value_counts().plot(kind='bar')"
   ]
  },
  {
   "cell_type": "code",
   "execution_count": 19,
   "metadata": {
    "collapsed": false
   },
   "outputs": [
    {
     "data": {
      "text/plain": [
       "<matplotlib.axes.AxesSubplot at 0x7f6a11031550>"
      ]
     },
     "execution_count": 19,
     "metadata": {},
     "output_type": "execute_result"
    },
    {
     "data": {
      "image/png": "[encoded data removed]",
      "text/plain": [
       "<matplotlib.figure.Figure at 0x7f6a11b1b510>"
      ]
     },
     "metadata": {},
     "output_type": "display_data"
    }
   ],
   "source": [
    "drinks.groupby('continent').mean().plot(kind='bar')"
   ]
  },
  {
   "cell_type": "code",
   "execution_count": 20,
   "metadata": {
    "collapsed": false
   },
   "outputs": [
    {
     "data": {
      "text/plain": [
       "<matplotlib.axes.AxesSubplot at 0x7f6a1074b450>"
      ]
     },
     "execution_count": 20,
     "metadata": {},
     "output_type": "execute_result"
    },
    {
     "data": {
      "image/png": "[encoded data removed]",
      "text/plain": [
       "<matplotlib.figure.Figure at 0x7f6a118a2f10>"
      ]
     },
     "metadata": {},
     "output_type": "display_data"
    }
   ],
   "source": [
    "drinks.groupby('continent').mean().drop('liters', axis=1).plot(kind='bar', stacked=True)"
   ]
  },
  {
   "cell_type": "markdown",
   "metadata": {},
   "source": [
    "## Plotly"
   ]
  },
  {
   "cell_type": "code",
   "execution_count": 21,
   "metadata": {
    "collapsed": false
   },
   "outputs": [
    {
     "data": {
      "text/html": [
       "<iframe id=\"igraph\" scrolling=\"no\" style=\"border:none;\" seamless=\"seamless\" src=\"https://plot.ly/~chris/7365.embed\" height=\"525\" width=\"100%\"></iframe>"
      ],
      "text/plain": [
       "<plotly.tools.PlotlyDisplay object>"
      ]
     },
     "execution_count": 21,
     "metadata": {},
     "output_type": "execute_result"
    }
   ],
   "source": [
    "import plotly.tools as tls\n",
    "tls.embed('https://plot.ly/~chris/7365')"
   ]
  },
  {
   "cell_type": "code",
   "execution_count": 22,
   "metadata": {
    "collapsed": false
   },
   "outputs": [
    {
     "name": "stderr",
     "output_type": "stream",
     "text": [
      "/usr/local/lib/python2.7/dist-packages/requests/packages/urllib3/util/ssl_.py:120: InsecurePlatformWarning:\n",
      "\n",
      "A true SSLContext object is not available. This prevents urllib3 from configuring SSL appropriately and may cause certain SSL connections to fail. For more information, see https://urllib3.readthedocs.org/en/latest/security.html#insecureplatformwarning.\n",
      "\n"
     ]
    },
    {
     "data": {
      "text/html": [
       "<iframe id=\"igraph\" scrolling=\"no\" style=\"border:none;\" seamless=\"seamless\" src=\"https://plot.ly/~youssef.emad.293/6.embed\" height=\"525px\" width=\"100%\"></iframe>"
      ],
      "text/plain": [
       "<plotly.tools.PlotlyDisplay object>"
      ]
     },
     "execution_count": 22,
     "metadata": {},
     "output_type": "execute_result"
    },
    {
     "data": {
      "text/plain": [
       "<matplotlib.figure.Figure at 0x7f6a105e1ed0>"
      ]
     },
     "metadata": {},
     "output_type": "display_data"
    }
   ],
   "source": [
    "from plotly.graph_objs import Histogram\n",
    "plt.figure(figsize=(15,5))\n",
    "py.iplot([Histogram(x=drinks.beer)], nbinsx=20, filename='drinks_beer')"
   ]
  },
  {
   "cell_type": "code",
   "execution_count": 23,
   "metadata": {
    "collapsed": false
   },
   "outputs": [
    {
     "name": "stderr",
     "output_type": "stream",
     "text": [
      "/usr/local/lib/python2.7/dist-packages/requests/packages/urllib3/util/ssl_.py:120: InsecurePlatformWarning:\n",
      "\n",
      "A true SSLContext object is not available. This prevents urllib3 from configuring SSL appropriately and may cause certain SSL connections to fail. For more information, see https://urllib3.readthedocs.org/en/latest/security.html#insecureplatformwarning.\n",
      "\n"
     ]
    },
    {
     "data": {
      "text/html": [
       "<iframe id=\"igraph\" scrolling=\"no\" style=\"border:none;\" seamless=\"seamless\" src=\"https://plot.ly/~youssef.emad.293/8.embed\" height=\"525px\" width=\"100%\"></iframe>"
      ],
      "text/plain": [
       "<plotly.tools.PlotlyDisplay object>"
      ]
     },
     "execution_count": 23,
     "metadata": {},
     "output_type": "execute_result"
    }
   ],
   "source": [
    "from plotly.graph_objs import Scatter\n",
    "trace= Scatter(x=drinks['beer'],y=drinks['spirit'],mode='markers',text=drinks['country'])\n",
    "py.iplot([trace],filename='scatter')"
   ]
  },
  {
   "cell_type": "markdown",
   "metadata": {},
   "source": [
    "## Exploring the Baseball Club Dataset"
   ]
  },
  {
   "cell_type": "code",
   "execution_count": 24,
   "metadata": {
    "collapsed": false
   },
   "outputs": [
    {
     "data": {
      "text/html": [
       "<div style=\"max-height:1000px;max-width:1500px;overflow:auto;\">\n",
       "<table border=\"1\" class=\"dataframe\">\n",
       "  <thead>\n",
       "    <tr style=\"text-align: right;\">\n",
       "      <th></th>\n",
       "      <th>playerID</th>\n",
       "      <th>yearID</th>\n",
       "      <th>stint</th>\n",
       "      <th>teamID</th>\n",
       "      <th>lgID</th>\n",
       "      <th>G</th>\n",
       "      <th>G_batting</th>\n",
       "      <th>AB</th>\n",
       "      <th>R</th>\n",
       "      <th>H</th>\n",
       "      <th>2B</th>\n",
       "      <th>3B</th>\n",
       "      <th>HR</th>\n",
       "      <th>RBI</th>\n",
       "      <th>SB</th>\n",
       "      <th>CS</th>\n",
       "      <th>BB</th>\n",
       "      <th>SO</th>\n",
       "      <th>IBB</th>\n",
       "      <th>HBP</th>\n",
       "      <th></th>\n",
       "    </tr>\n",
       "  </thead>\n",
       "  <tbody>\n",
       "    <tr>\n",
       "      <th>0</th>\n",
       "      <td> aardsda01</td>\n",
       "      <td> 2004</td>\n",
       "      <td> 1</td>\n",
       "      <td> SFN</td>\n",
       "      <td> NL</td>\n",
       "      <td> 11</td>\n",
       "      <td> 11</td>\n",
       "      <td> 0</td>\n",
       "      <td> 0</td>\n",
       "      <td> 0</td>\n",
       "      <td> 0</td>\n",
       "      <td> 0</td>\n",
       "      <td> 0</td>\n",
       "      <td> 0</td>\n",
       "      <td> 0</td>\n",
       "      <td> 0</td>\n",
       "      <td> 0</td>\n",
       "      <td> 0</td>\n",
       "      <td> 0</td>\n",
       "      <td> 0</td>\n",
       "      <td>...</td>\n",
       "    </tr>\n",
       "    <tr>\n",
       "      <th>1</th>\n",
       "      <td> aardsda01</td>\n",
       "      <td> 2006</td>\n",
       "      <td> 1</td>\n",
       "      <td> CHN</td>\n",
       "      <td> NL</td>\n",
       "      <td> 45</td>\n",
       "      <td> 43</td>\n",
       "      <td> 2</td>\n",
       "      <td> 0</td>\n",
       "      <td> 0</td>\n",
       "      <td> 0</td>\n",
       "      <td> 0</td>\n",
       "      <td> 0</td>\n",
       "      <td> 0</td>\n",
       "      <td> 0</td>\n",
       "      <td> 0</td>\n",
       "      <td> 0</td>\n",
       "      <td> 0</td>\n",
       "      <td> 0</td>\n",
       "      <td> 0</td>\n",
       "      <td>...</td>\n",
       "    </tr>\n",
       "    <tr>\n",
       "      <th>2</th>\n",
       "      <td> aardsda01</td>\n",
       "      <td> 2007</td>\n",
       "      <td> 1</td>\n",
       "      <td> CHA</td>\n",
       "      <td> AL</td>\n",
       "      <td> 25</td>\n",
       "      <td>  2</td>\n",
       "      <td> 0</td>\n",
       "      <td> 0</td>\n",
       "      <td> 0</td>\n",
       "      <td> 0</td>\n",
       "      <td> 0</td>\n",
       "      <td> 0</td>\n",
       "      <td> 0</td>\n",
       "      <td> 0</td>\n",
       "      <td> 0</td>\n",
       "      <td> 0</td>\n",
       "      <td> 0</td>\n",
       "      <td> 0</td>\n",
       "      <td> 0</td>\n",
       "      <td>...</td>\n",
       "    </tr>\n",
       "    <tr>\n",
       "      <th>3</th>\n",
       "      <td> aardsda01</td>\n",
       "      <td> 2008</td>\n",
       "      <td> 1</td>\n",
       "      <td> BOS</td>\n",
       "      <td> AL</td>\n",
       "      <td> 47</td>\n",
       "      <td>  5</td>\n",
       "      <td> 1</td>\n",
       "      <td> 0</td>\n",
       "      <td> 0</td>\n",
       "      <td> 0</td>\n",
       "      <td> 0</td>\n",
       "      <td> 0</td>\n",
       "      <td> 0</td>\n",
       "      <td> 0</td>\n",
       "      <td> 0</td>\n",
       "      <td> 0</td>\n",
       "      <td> 1</td>\n",
       "      <td> 0</td>\n",
       "      <td> 0</td>\n",
       "      <td>...</td>\n",
       "    </tr>\n",
       "    <tr>\n",
       "      <th>4</th>\n",
       "      <td> aardsda01</td>\n",
       "      <td> 2009</td>\n",
       "      <td> 1</td>\n",
       "      <td> SEA</td>\n",
       "      <td> AL</td>\n",
       "      <td> 73</td>\n",
       "      <td>  3</td>\n",
       "      <td> 0</td>\n",
       "      <td> 0</td>\n",
       "      <td> 0</td>\n",
       "      <td> 0</td>\n",
       "      <td> 0</td>\n",
       "      <td> 0</td>\n",
       "      <td> 0</td>\n",
       "      <td> 0</td>\n",
       "      <td> 0</td>\n",
       "      <td> 0</td>\n",
       "      <td> 0</td>\n",
       "      <td> 0</td>\n",
       "      <td> 0</td>\n",
       "      <td>...</td>\n",
       "    </tr>\n",
       "  </tbody>\n",
       "</table>\n",
       "<p>5 rows × 24 columns</p>\n",
       "</div>"
      ],
      "text/plain": [
       "    playerID  yearID  stint teamID lgID   G  G_batting  AB  R  H  2B  3B  HR  \\\n",
       "0  aardsda01    2004      1    SFN   NL  11         11   0  0  0   0   0   0   \n",
       "1  aardsda01    2006      1    CHN   NL  45         43   2  0  0   0   0   0   \n",
       "2  aardsda01    2007      1    CHA   AL  25          2   0  0  0   0   0   0   \n",
       "3  aardsda01    2008      1    BOS   AL  47          5   1  0  0   0   0   0   \n",
       "4  aardsda01    2009      1    SEA   AL  73          3   0  0  0   0   0   0   \n",
       "\n",
       "   RBI  SB  CS  BB  SO  IBB  HBP      \n",
       "0    0   0   0   0   0    0    0 ...  \n",
       "1    0   0   0   0   0    0    0 ...  \n",
       "2    0   0   0   0   0    0    0 ...  \n",
       "3    0   0   0   0   1    0    0 ...  \n",
       "4    0   0   0   0   0    0    0 ...  \n",
       "\n",
       "[5 rows x 24 columns]"
      ]
     },
     "execution_count": 24,
     "metadata": {},
     "output_type": "execute_result"
    }
   ],
   "source": [
    "data = pd.read_csv('https://raw.githubusercontent.com/mkcor/baseball-notebook/master/Batting.csv')\n",
    "data.head()"
   ]
  },
  {
   "cell_type": "code",
   "execution_count": 25,
   "metadata": {
    "collapsed": false
   },
   "outputs": [
    {
     "data": {
      "text/html": [
       "<div style=\"max-height:1000px;max-width:1500px;overflow:auto;\">\n",
       "<table border=\"1\" class=\"dataframe\">\n",
       "  <thead>\n",
       "    <tr style=\"text-align: right;\">\n",
       "      <th></th>\n",
       "      <th>yearID</th>\n",
       "      <th>stint</th>\n",
       "      <th>G</th>\n",
       "      <th>G_batting</th>\n",
       "      <th>AB</th>\n",
       "      <th>R</th>\n",
       "      <th>H</th>\n",
       "      <th>2B</th>\n",
       "      <th>3B</th>\n",
       "      <th>HR</th>\n",
       "      <th>RBI</th>\n",
       "      <th>SB</th>\n",
       "      <th>CS</th>\n",
       "      <th>BB</th>\n",
       "      <th>SO</th>\n",
       "      <th>IBB</th>\n",
       "      <th>HBP</th>\n",
       "      <th>SH</th>\n",
       "      <th>SF</th>\n",
       "      <th>GIDP</th>\n",
       "      <th></th>\n",
       "    </tr>\n",
       "  </thead>\n",
       "  <tbody>\n",
       "    <tr>\n",
       "      <th>count</th>\n",
       "      <td> 97889.000000</td>\n",
       "      <td> 97889.000000</td>\n",
       "      <td> 97889.000000</td>\n",
       "      <td> 96483.000000</td>\n",
       "      <td> 91476.000000</td>\n",
       "      <td> 91476.000000</td>\n",
       "      <td> 91476.000000</td>\n",
       "      <td> 91476.000000</td>\n",
       "      <td> 91476.000000</td>\n",
       "      <td> 91476.000000</td>\n",
       "      <td> 91052.000000</td>\n",
       "      <td> 90176.000000</td>\n",
       "      <td> 68022.000000</td>\n",
       "      <td> 91476.000000</td>\n",
       "      <td> 83638.000000</td>\n",
       "      <td> 54912.000000</td>\n",
       "      <td> 88656.000000</td>\n",
       "      <td> 85138.000000</td>\n",
       "      <td> 55443.000000</td>\n",
       "      <td> 65368.000000</td>\n",
       "      <td>...</td>\n",
       "    </tr>\n",
       "    <tr>\n",
       "      <th>mean</th>\n",
       "      <td>  1961.732922</td>\n",
       "      <td>     1.076873</td>\n",
       "      <td>    51.654078</td>\n",
       "      <td>    49.130790</td>\n",
       "      <td>   154.067766</td>\n",
       "      <td>    20.468615</td>\n",
       "      <td>    40.366883</td>\n",
       "      <td>     6.799543</td>\n",
       "      <td>     1.424483</td>\n",
       "      <td>     3.001640</td>\n",
       "      <td>    18.472214</td>\n",
       "      <td>     3.264616</td>\n",
       "      <td>     1.384802</td>\n",
       "      <td>    14.215073</td>\n",
       "      <td>    21.951768</td>\n",
       "      <td>     1.281960</td>\n",
       "      <td>     1.135919</td>\n",
       "      <td>     2.563920</td>\n",
       "      <td>     1.202532</td>\n",
       "      <td>     3.329045</td>\n",
       "      <td>...</td>\n",
       "    </tr>\n",
       "    <tr>\n",
       "      <th>std</th>\n",
       "      <td>    38.104588</td>\n",
       "      <td>     0.282653</td>\n",
       "      <td>    47.267487</td>\n",
       "      <td>    48.869353</td>\n",
       "      <td>   187.374936</td>\n",
       "      <td>    28.935336</td>\n",
       "      <td>    53.674482</td>\n",
       "      <td>     9.855328</td>\n",
       "      <td>     2.755706</td>\n",
       "      <td>     6.455669</td>\n",
       "      <td>    26.987381</td>\n",
       "      <td>     8.055966</td>\n",
       "      <td>     2.900107</td>\n",
       "      <td>    21.298814</td>\n",
       "      <td>    28.141424</td>\n",
       "      <td>     2.968605</td>\n",
       "      <td>     2.333229</td>\n",
       "      <td>     4.427705</td>\n",
       "      <td>     2.057438</td>\n",
       "      <td>     4.878830</td>\n",
       "      <td>...</td>\n",
       "    </tr>\n",
       "    <tr>\n",
       "      <th>min</th>\n",
       "      <td>  1871.000000</td>\n",
       "      <td>     1.000000</td>\n",
       "      <td>     1.000000</td>\n",
       "      <td>     0.000000</td>\n",
       "      <td>     0.000000</td>\n",
       "      <td>     0.000000</td>\n",
       "      <td>     0.000000</td>\n",
       "      <td>     0.000000</td>\n",
       "      <td>     0.000000</td>\n",
       "      <td>     0.000000</td>\n",
       "      <td>     0.000000</td>\n",
       "      <td>     0.000000</td>\n",
       "      <td>     0.000000</td>\n",
       "      <td>     0.000000</td>\n",
       "      <td>     0.000000</td>\n",
       "      <td>     0.000000</td>\n",
       "      <td>     0.000000</td>\n",
       "      <td>     0.000000</td>\n",
       "      <td>     0.000000</td>\n",
       "      <td>     0.000000</td>\n",
       "      <td>...</td>\n",
       "    </tr>\n",
       "    <tr>\n",
       "      <th>25%</th>\n",
       "      <td>  1931.000000</td>\n",
       "      <td>     1.000000</td>\n",
       "      <td>    13.000000</td>\n",
       "      <td>     7.000000</td>\n",
       "      <td>     9.000000</td>\n",
       "      <td>     0.000000</td>\n",
       "      <td>     1.000000</td>\n",
       "      <td>     0.000000</td>\n",
       "      <td>     0.000000</td>\n",
       "      <td>     0.000000</td>\n",
       "      <td>     0.000000</td>\n",
       "      <td>     0.000000</td>\n",
       "      <td>     0.000000</td>\n",
       "      <td>     0.000000</td>\n",
       "      <td>     2.000000</td>\n",
       "      <td>     0.000000</td>\n",
       "      <td>     0.000000</td>\n",
       "      <td>     0.000000</td>\n",
       "      <td>     0.000000</td>\n",
       "      <td>     0.000000</td>\n",
       "      <td>...</td>\n",
       "    </tr>\n",
       "    <tr>\n",
       "      <th>50%</th>\n",
       "      <td>  1970.000000</td>\n",
       "      <td>     1.000000</td>\n",
       "      <td>    35.000000</td>\n",
       "      <td>    32.000000</td>\n",
       "      <td>    61.000000</td>\n",
       "      <td>     5.000000</td>\n",
       "      <td>    12.000000</td>\n",
       "      <td>     2.000000</td>\n",
       "      <td>     0.000000</td>\n",
       "      <td>     0.000000</td>\n",
       "      <td>     5.000000</td>\n",
       "      <td>     0.000000</td>\n",
       "      <td>     0.000000</td>\n",
       "      <td>     4.000000</td>\n",
       "      <td>    11.000000</td>\n",
       "      <td>     0.000000</td>\n",
       "      <td>     0.000000</td>\n",
       "      <td>     1.000000</td>\n",
       "      <td>     0.000000</td>\n",
       "      <td>     1.000000</td>\n",
       "      <td>...</td>\n",
       "    </tr>\n",
       "    <tr>\n",
       "      <th>75%</th>\n",
       "      <td>  1995.000000</td>\n",
       "      <td>     1.000000</td>\n",
       "      <td>    81.000000</td>\n",
       "      <td>    81.000000</td>\n",
       "      <td>   260.000000</td>\n",
       "      <td>    31.000000</td>\n",
       "      <td>    66.000000</td>\n",
       "      <td>    10.000000</td>\n",
       "      <td>     2.000000</td>\n",
       "      <td>     3.000000</td>\n",
       "      <td>    28.000000</td>\n",
       "      <td>     2.000000</td>\n",
       "      <td>     1.000000</td>\n",
       "      <td>    21.000000</td>\n",
       "      <td>    31.000000</td>\n",
       "      <td>     1.000000</td>\n",
       "      <td>     1.000000</td>\n",
       "      <td>     3.000000</td>\n",
       "      <td>     2.000000</td>\n",
       "      <td>     5.000000</td>\n",
       "      <td>...</td>\n",
       "    </tr>\n",
       "    <tr>\n",
       "      <th>max</th>\n",
       "      <td>  2013.000000</td>\n",
       "      <td>     5.000000</td>\n",
       "      <td>   165.000000</td>\n",
       "      <td>   165.000000</td>\n",
       "      <td>   716.000000</td>\n",
       "      <td>   192.000000</td>\n",
       "      <td>   262.000000</td>\n",
       "      <td>    67.000000</td>\n",
       "      <td>    36.000000</td>\n",
       "      <td>    73.000000</td>\n",
       "      <td>   191.000000</td>\n",
       "      <td>   138.000000</td>\n",
       "      <td>    42.000000</td>\n",
       "      <td>   232.000000</td>\n",
       "      <td>   223.000000</td>\n",
       "      <td>   120.000000</td>\n",
       "      <td>    51.000000</td>\n",
       "      <td>    67.000000</td>\n",
       "      <td>    19.000000</td>\n",
       "      <td>    36.000000</td>\n",
       "      <td>...</td>\n",
       "    </tr>\n",
       "  </tbody>\n",
       "</table>\n",
       "<p>8 rows × 21 columns</p>\n",
       "</div>"
      ],
      "text/plain": [
       "             yearID         stint             G     G_batting            AB  \\\n",
       "count  97889.000000  97889.000000  97889.000000  96483.000000  91476.000000   \n",
       "mean    1961.732922      1.076873     51.654078     49.130790    154.067766   \n",
       "std       38.104588      0.282653     47.267487     48.869353    187.374936   \n",
       "min     1871.000000      1.000000      1.000000      0.000000      0.000000   \n",
       "25%     1931.000000      1.000000     13.000000      7.000000      9.000000   \n",
       "50%     1970.000000      1.000000     35.000000     32.000000     61.000000   \n",
       "75%     1995.000000      1.000000     81.000000     81.000000    260.000000   \n",
       "max     2013.000000      5.000000    165.000000    165.000000    716.000000   \n",
       "\n",
       "                  R             H            2B            3B            HR  \\\n",
       "count  91476.000000  91476.000000  91476.000000  91476.000000  91476.000000   \n",
       "mean      20.468615     40.366883      6.799543      1.424483      3.001640   \n",
       "std       28.935336     53.674482      9.855328      2.755706      6.455669   \n",
       "min        0.000000      0.000000      0.000000      0.000000      0.000000   \n",
       "25%        0.000000      1.000000      0.000000      0.000000      0.000000   \n",
       "50%        5.000000     12.000000      2.000000      0.000000      0.000000   \n",
       "75%       31.000000     66.000000     10.000000      2.000000      3.000000   \n",
       "max      192.000000    262.000000     67.000000     36.000000     73.000000   \n",
       "\n",
       "                RBI            SB            CS            BB            SO  \\\n",
       "count  91052.000000  90176.000000  68022.000000  91476.000000  83638.000000   \n",
       "mean      18.472214      3.264616      1.384802     14.215073     21.951768   \n",
       "std       26.987381      8.055966      2.900107     21.298814     28.141424   \n",
       "min        0.000000      0.000000      0.000000      0.000000      0.000000   \n",
       "25%        0.000000      0.000000      0.000000      0.000000      2.000000   \n",
       "50%        5.000000      0.000000      0.000000      4.000000     11.000000   \n",
       "75%       28.000000      2.000000      1.000000     21.000000     31.000000   \n",
       "max      191.000000    138.000000     42.000000    232.000000    223.000000   \n",
       "\n",
       "                IBB           HBP            SH            SF          GIDP  \\\n",
       "count  54912.000000  88656.000000  85138.000000  55443.000000  65368.000000   \n",
       "mean       1.281960      1.135919      2.563920      1.202532      3.329045   \n",
       "std        2.968605      2.333229      4.427705      2.057438      4.878830   \n",
       "min        0.000000      0.000000      0.000000      0.000000      0.000000   \n",
       "25%        0.000000      0.000000      0.000000      0.000000      0.000000   \n",
       "50%        0.000000      0.000000      1.000000      0.000000      1.000000   \n",
       "75%        1.000000      1.000000      3.000000      2.000000      5.000000   \n",
       "max      120.000000     51.000000     67.000000     19.000000     36.000000   \n",
       "\n",
       "           \n",
       "count ...  \n",
       "mean  ...  \n",
       "std   ...  \n",
       "min   ...  \n",
       "25%   ...  \n",
       "50%   ...  \n",
       "75%   ...  \n",
       "max   ...  \n",
       "\n",
       "[8 rows x 21 columns]"
      ]
     },
     "execution_count": 25,
     "metadata": {},
     "output_type": "execute_result"
    }
   ],
   "source": [
    "data.describe()"
   ]
  },
  {
   "cell_type": "code",
   "execution_count": 26,
   "metadata": {
    "collapsed": false
   },
   "outputs": [
    {
     "data": {
      "text/plain": [
       "13252"
      ]
     },
     "execution_count": 26,
     "metadata": {},
     "output_type": "execute_result"
    }
   ],
   "source": [
    "data = data[data['yearID'] > 2003]\n",
    "len(data)"
   ]
  },
  {
   "cell_type": "code",
   "execution_count": 27,
   "metadata": {
    "collapsed": false
   },
   "outputs": [
    {
     "data": {
      "text/plain": [
       "<matplotlib.axes.AxesSubplot at 0x7f6a1067dc90>"
      ]
     },
     "execution_count": 27,
     "metadata": {},
     "output_type": "execute_result"
    },
    {
     "data": {
      "image/png": "[encoded data removed]",
      "text/plain": [
       "<matplotlib.figure.Figure at 0x7f6a11c94510>"
      ]
     },
     "metadata": {},
     "output_type": "display_data"
    }
   ],
   "source": [
    "%matplotlib inline\n",
    "data['AB'].hist()"
   ]
  },
  {
   "cell_type": "code",
   "execution_count": 28,
   "metadata": {
    "collapsed": false
   },
   "outputs": [
    {
     "name": "stderr",
     "output_type": "stream",
     "text": [
      "/usr/local/lib/python2.7/dist-packages/requests/packages/urllib3/util/ssl_.py:120: InsecurePlatformWarning:\n",
      "\n",
      "A true SSLContext object is not available. This prevents urllib3 from configuring SSL appropriately and may cause certain SSL connections to fail. For more information, see https://urllib3.readthedocs.org/en/latest/security.html#insecureplatformwarning.\n",
      "\n"
     ]
    },
    {
     "data": {
      "text/html": [
       "<iframe id=\"igraph\" scrolling=\"no\" style=\"border:none;\" seamless=\"seamless\" src=\"https://plot.ly/~youssef.emad.293/10.embed\" height=\"525px\" width=\"100%\"></iframe>"
      ],
      "text/plain": [
       "<plotly.tools.PlotlyDisplay object>"
      ]
     },
     "execution_count": 28,
     "metadata": {},
     "output_type": "execute_result"
    }
   ],
   "source": [
    "py.iplot([Histogram(x=data['AB'],nbinsx=10)],filename='baseball_histogram')"
   ]
  },
  {
   "cell_type": "code",
   "execution_count": 29,
   "metadata": {
    "collapsed": false
   },
   "outputs": [
    {
     "name": "stderr",
     "output_type": "stream",
     "text": [
      "/usr/local/lib/python2.7/dist-packages/requests/packages/urllib3/util/ssl_.py:120: InsecurePlatformWarning:\n",
      "\n",
      "A true SSLContext object is not available. This prevents urllib3 from configuring SSL appropriately and may cause certain SSL connections to fail. For more information, see https://urllib3.readthedocs.org/en/latest/security.html#insecureplatformwarning.\n",
      "\n"
     ]
    },
    {
     "data": {
      "text/html": [
       "<iframe id=\"igraph\" scrolling=\"no\" style=\"border:none;\" seamless=\"seamless\" src=\"https://plot.ly/~youssef.emad.293/8.embed\" height=\"525px\" width=\"100%\"></iframe>"
      ],
      "text/plain": [
       "<plotly.tools.PlotlyDisplay object>"
      ]
     },
     "execution_count": 29,
     "metadata": {},
     "output_type": "execute_result"
    }
   ],
   "source": [
    "from plotly.graph_objs import Scatter\n",
    "trace= Scatter(x=data['AB'],y=data['H'],mode='markers',text=data['playerID'])\n",
    "py.iplot([trace],filename='scatter')"
   ]
  },
  {
   "cell_type": "code",
   "execution_count": null,
   "metadata": {
    "collapsed": true
   },
   "outputs": [],
   "source": []
  }
 ],
 "metadata": {
  "kernelspec": {
   "display_name": "Python 2",
   "language": "python",
   "name": "python2"
  },
  "language_info": {
   "codemirror_mode": {
    "name": "ipython",
    "version": 2
   },
   "file_extension": ".py",
   "mimetype": "text/x-python",
   "name": "python",
   "nbconvert_exporter": "python",
   "pygments_lexer": "ipython2",
   "version": "2.7.6"
  }
 },
 "nbformat": 4,
 "nbformat_minor": 0
}
